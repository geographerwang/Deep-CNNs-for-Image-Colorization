{
 "cells": [
  {
   "cell_type": "code",
   "execution_count": 50,
   "metadata": {},
   "outputs": [],
   "source": [
    "import pandas as pd\n",
    "import numpy as np\n",
    "import tensorflow as tf\n",
    "import pickle\n",
    "from sklearn.cluster import KMeans\n",
    "import matplotlib.pyplot as plt\n",
    "from sklearn.model_selection import train_test_split"
   ]
  },
  {
   "cell_type": "code",
   "execution_count": 2,
   "metadata": {},
   "outputs": [],
   "source": [
    "def unpickle(file):\n",
    "    import pickle\n",
    "    with open(file, 'rb') as fo:\n",
    "        dict_ = pickle.load(fo, encoding='bytes')\n",
    "    features = dict_[b'data'].reshape((len(dict_[b'data']), 3, 32, 32)).transpose(0, 2, 3, 1)\n",
    "    labels = dict_[b'labels']\n",
    "    return (features, labels)"
   ]
  },
  {
   "cell_type": "code",
   "execution_count": 3,
   "metadata": {},
   "outputs": [],
   "source": [
    "def merge(data):\n",
    "    data_ = []\n",
    "    for i in range(len(data[0])):\n",
    "        if data[1][i] == 2:\n",
    "            data_.append(data[0][i])\n",
    "    return data_"
   ]
  },
  {
   "cell_type": "markdown",
   "metadata": {},
   "source": [
    "### a) Using the CIFAR-10 dataset"
   ]
  },
  {
   "cell_type": "code",
   "execution_count": 5,
   "metadata": {},
   "outputs": [],
   "source": [
    "data = []\n",
    "data_1 = unpickle('data_batch_1');\n",
    "data += merge(data_1) \n",
    "data_2 = unpickle('data_batch_2');\n",
    "data += merge(data_2) \n",
    "data_3 = unpickle('data_batch_3');\n",
    "data += merge(data_3) \n",
    "data_4 = unpickle('data_batch_4');\n",
    "data += merge(data_4) \n",
    "data_5 = unpickle('data_batch_5');\n",
    "data += merge(data_5) \n",
    "test_data = unpickle('test_batch')\n",
    "data += merge(test_data) "
   ]
  },
  {
   "cell_type": "code",
   "execution_count": 6,
   "metadata": {},
   "outputs": [
    {
     "data": {
      "text/plain": [
       "(6000, 32, 32, 3)"
      ]
     },
     "execution_count": 6,
     "metadata": {},
     "output_type": "execute_result"
    }
   ],
   "source": [
    "np.array(data).shape"
   ]
  },
  {
   "cell_type": "markdown",
   "metadata": {},
   "source": [
    "### b) Using only bird images"
   ]
  },
  {
   "cell_type": "code",
   "execution_count": 7,
   "metadata": {},
   "outputs": [
    {
     "data": {
      "text/plain": [
       "<matplotlib.image.AxesImage at 0x12588a0f0>"
      ]
     },
     "execution_count": 7,
     "metadata": {},
     "output_type": "execute_result"
    },
    {
     "data": {
      "image/png": "[encoded data removed]",
      "text/plain": [
       "<Figure size 432x288 with 1 Axes>"
      ]
     },
     "metadata": {
      "needs_background": "light"
     },
     "output_type": "display_data"
    }
   ],
   "source": [
    "plt.imshow(data[0])"
   ]
  },
  {
   "cell_type": "markdown",
   "metadata": {},
   "source": [
    "### c) Splitting into train and test done later"
   ]
  },
  {
   "cell_type": "markdown",
   "metadata": {},
   "source": [
    "### d) Creating pixel list to find cluster centers using KMeans k = 4"
   ]
  },
  {
   "cell_type": "code",
   "execution_count": 8,
   "metadata": {},
   "outputs": [],
   "source": [
    "pixel_list = np.reshape(data, (6144000, 3))"
   ]
  },
  {
   "cell_type": "code",
   "execution_count": 9,
   "metadata": {},
   "outputs": [],
   "source": [
    "kmeans = KMeans(n_clusters=4)"
   ]
  },
  {
   "cell_type": "code",
   "execution_count": 10,
   "metadata": {},
   "outputs": [
    {
     "data": {
      "text/plain": [
       "KMeans(algorithm='auto', copy_x=True, init='k-means++', max_iter=300,\n",
       "    n_clusters=4, n_init=10, n_jobs=None, precompute_distances='auto',\n",
       "    random_state=None, tol=0.0001, verbose=0)"
      ]
     },
     "execution_count": 10,
     "metadata": {},
     "output_type": "execute_result"
    }
   ],
   "source": [
    "kmeans.fit(pixel_list)"
   ]
  },
  {
   "cell_type": "code",
   "execution_count": 11,
   "metadata": {},
   "outputs": [
    {
     "data": {
      "text/plain": [
       "array([[109.71005442, 109.30689312,  83.26234712],\n",
       "       [207.306757  , 212.53890927, 212.207985  ],\n",
       "       [ 49.40417349,  50.38289826,  38.8369786 ],\n",
       "       [156.8738332 , 156.31477962, 136.79228785]])"
      ]
     },
     "execution_count": 11,
     "metadata": {},
     "output_type": "execute_result"
    }
   ],
   "source": [
    "kmeans.cluster_centers_"
   ]
  },
  {
   "cell_type": "code",
   "execution_count": 12,
   "metadata": {},
   "outputs": [],
   "source": [
    "lab = kmeans.predict(pixel_list)"
   ]
  },
  {
   "cell_type": "code",
   "execution_count": 13,
   "metadata": {},
   "outputs": [],
   "source": [
    "npl = []\n",
    "Y = []\n",
    "for ppp in range(len(pixel_list)):\n",
    "    npl.append([int(op) for op in kmeans.cluster_centers_[lab[ppp]]])\n",
    "    if lab[ppp] == 0:\n",
    "        Y.append([1, 0, 0, 0])\n",
    "    elif lab[ppp] == 1:\n",
    "        Y.append([0, 1, 0, 0])\n",
    "    elif lab[ppp] == 2:\n",
    "        Y.append([0, 0, 1, 0])\n",
    "    elif lab[ppp] == 3:\n",
    "        Y.append([0, 0, 0, 1])"
   ]
  },
  {
   "cell_type": "code",
   "execution_count": 14,
   "metadata": {},
   "outputs": [
    {
     "data": {
      "text/plain": [
       "(6144000, 3)"
      ]
     },
     "execution_count": 14,
     "metadata": {},
     "output_type": "execute_result"
    }
   ],
   "source": [
    "np.shape(npl)"
   ]
  },
  {
   "cell_type": "code",
   "execution_count": 15,
   "metadata": {},
   "outputs": [
    {
     "data": {
      "text/plain": [
       "(6144000, 4)"
      ]
     },
     "execution_count": 15,
     "metadata": {},
     "output_type": "execute_result"
    }
   ],
   "source": [
    "np.shape(Y)"
   ]
  },
  {
   "cell_type": "code",
   "execution_count": 16,
   "metadata": {},
   "outputs": [],
   "source": [
    "npl = np.reshape(npl, (6000, 32, 32, 3))\n",
    "Y = np.reshape(Y, (6000, 32, 32, 4))"
   ]
  },
  {
   "cell_type": "markdown",
   "metadata": {},
   "source": [
    "### e) Using skimage to create greyscale images"
   ]
  },
  {
   "cell_type": "code",
   "execution_count": 17,
   "metadata": {},
   "outputs": [],
   "source": [
    "from skimage.color import rgb2grey"
   ]
  },
  {
   "cell_type": "code",
   "execution_count": 18,
   "metadata": {},
   "outputs": [],
   "source": [
    "X = []\n",
    "pixel_list = np.reshape(pixel_list, (6000, 32, 32, 3))\n",
    "for i in range(len(pixel_list)):\n",
    "    X.append(rgb2grey(pixel_list[i]).tolist())"
   ]
  },
  {
   "cell_type": "code",
   "execution_count": 19,
   "metadata": {},
   "outputs": [],
   "source": [
    "X = np.reshape(X, (6000, 32, 32, 1))"
   ]
  },
  {
   "cell_type": "code",
   "execution_count": 20,
   "metadata": {},
   "outputs": [
    {
     "name": "stderr",
     "output_type": "stream",
     "text": [
      "Using TensorFlow backend.\n"
     ]
    }
   ],
   "source": [
    "from keras.utils import to_categorical"
   ]
  },
  {
   "cell_type": "code",
   "execution_count": 21,
   "metadata": {},
   "outputs": [],
   "source": [
    "from keras.models import Sequential\n",
    "from keras.layers import Dense, Conv2D, Flatten, MaxPool2D"
   ]
  },
  {
   "cell_type": "code",
   "execution_count": 22,
   "metadata": {},
   "outputs": [],
   "source": [
    "model = Sequential()"
   ]
  },
  {
   "cell_type": "markdown",
   "metadata": {},
   "source": [
    "### f) Setting up the neural network layers\n",
    "- 2 Convolutional layers used\n",
    "- 2 MLP layers used\n",
    "- 2 MaxPooling layers used\n",
    "- Kernel size = 5 x 5\n",
    "- Softmax is used as output layer to get probabilities"
   ]
  },
  {
   "cell_type": "code",
   "execution_count": 23,
   "metadata": {},
   "outputs": [],
   "source": [
    "model.add(Conv2D(64, kernel_size = (5,5), strides=(1, 1), padding='same', input_shape = (32,32,1)))\n",
    "model.add(MaxPool2D(pool_size=(2, 2), strides=(1, 1), padding='same'))\n",
    "model.add(Conv2D(64, kernel_size = (5,5), strides=(1, 1), padding='same'))\n",
    "model.add(MaxPool2D(pool_size=(2, 2), strides=(1, 1), padding='same'))\n",
    "model.add(Dense(32, activation='softmax'))\n",
    "model.add(Dense(4, activation='softmax'))"
   ]
  },
  {
   "cell_type": "code",
   "execution_count": 24,
   "metadata": {},
   "outputs": [
    {
     "name": "stdout",
     "output_type": "stream",
     "text": [
      "_________________________________________________________________\n",
      "Layer (type)                 Output Shape              Param #   \n",
      "=================================================================\n",
      "conv2d_1 (Conv2D)            (None, 32, 32, 64)        1664      \n",
      "_________________________________________________________________\n",
      "max_pooling2d_1 (MaxPooling2 (None, 32, 32, 64)        0         \n",
      "_________________________________________________________________\n",
      "conv2d_2 (Conv2D)            (None, 32, 32, 64)        102464    \n",
      "_________________________________________________________________\n",
      "max_pooling2d_2 (MaxPooling2 (None, 32, 32, 64)        0         \n",
      "_________________________________________________________________\n",
      "dense_1 (Dense)              (None, 32, 32, 32)        2080      \n",
      "_________________________________________________________________\n",
      "dense_2 (Dense)              (None, 32, 32, 4)         132       \n",
      "=================================================================\n",
      "Total params: 106,340\n",
      "Trainable params: 106,340\n",
      "Non-trainable params: 0\n",
      "_________________________________________________________________\n"
     ]
    }
   ],
   "source": [
    "model.summary()"
   ]
  },
  {
   "cell_type": "code",
   "execution_count": 25,
   "metadata": {},
   "outputs": [],
   "source": [
    "model.compile(optimizer='adam', loss='categorical_crossentropy', metrics=['accuracy'])"
   ]
  },
  {
   "cell_type": "code",
   "execution_count": 26,
   "metadata": {},
   "outputs": [],
   "source": [
    "X_train, X_test, y_train, y_test = train_test_split(X, Y, test_size=0.1, random_state=10)"
   ]
  },
  {
   "cell_type": "code",
   "execution_count": 27,
   "metadata": {},
   "outputs": [
    {
     "data": {
      "text/plain": [
       "(5400, 32, 32, 4)"
      ]
     },
     "execution_count": 27,
     "metadata": {},
     "output_type": "execute_result"
    }
   ],
   "source": [
    "y_train.shape"
   ]
  },
  {
   "cell_type": "markdown",
   "metadata": {},
   "source": [
    "### Training for 20 epochs"
   ]
  },
  {
   "cell_type": "code",
   "execution_count": 28,
   "metadata": {},
   "outputs": [
    {
     "name": "stdout",
     "output_type": "stream",
     "text": [
      "Train on 5400 samples, validate on 600 samples\n",
      "Epoch 1/20\n",
      " - 41s - loss: 1.2160 - acc: 0.5020 - val_loss: 1.0969 - val_acc: 0.6922\n",
      "Epoch 2/20\n",
      " - 41s - loss: 1.0266 - acc: 0.6994 - val_loss: 0.9620 - val_acc: 0.7151\n",
      "Epoch 3/20\n",
      " - 41s - loss: 0.9103 - acc: 0.7204 - val_loss: 0.8654 - val_acc: 0.7239\n",
      "Epoch 4/20\n",
      " - 41s - loss: 0.8307 - acc: 0.7279 - val_loss: 0.7917 - val_acc: 0.7357\n",
      "Epoch 5/20\n",
      " - 41s - loss: 0.7691 - acc: 0.7350 - val_loss: 0.7431 - val_acc: 0.7360\n",
      "Epoch 6/20\n",
      " - 41s - loss: 0.7184 - acc: 0.7426 - val_loss: 0.7025 - val_acc: 0.7389\n",
      "Epoch 7/20\n",
      " - 41s - loss: 0.6830 - acc: 0.7452 - val_loss: 0.6633 - val_acc: 0.7474\n",
      "Epoch 8/20\n",
      " - 41s - loss: 0.6589 - acc: 0.7450 - val_loss: 0.6540 - val_acc: 0.7354\n",
      "Epoch 9/20\n",
      " - 41s - loss: 0.6296 - acc: 0.7502 - val_loss: 0.6229 - val_acc: 0.7465\n",
      "Epoch 10/20\n",
      " - 41s - loss: 0.6104 - acc: 0.7515 - val_loss: 0.6022 - val_acc: 0.7545\n",
      "Epoch 11/20\n",
      " - 41s - loss: 0.5971 - acc: 0.7506 - val_loss: 0.5909 - val_acc: 0.7457\n",
      "Epoch 12/20\n",
      " - 41s - loss: 0.5816 - acc: 0.7524 - val_loss: 0.5711 - val_acc: 0.7504\n",
      "Epoch 13/20\n",
      " - 41s - loss: 0.5673 - acc: 0.7535 - val_loss: 0.5575 - val_acc: 0.7530\n",
      "Epoch 14/20\n",
      " - 41s - loss: 0.5542 - acc: 0.7548 - val_loss: 0.5569 - val_acc: 0.7474\n",
      "Epoch 15/20\n",
      " - 41s - loss: 0.5461 - acc: 0.7533 - val_loss: 0.5561 - val_acc: 0.7296\n",
      "Epoch 16/20\n",
      " - 41s - loss: 0.5338 - acc: 0.7539 - val_loss: 0.5244 - val_acc: 0.7560\n",
      "Epoch 17/20\n",
      " - 41s - loss: 0.5232 - acc: 0.7546 - val_loss: 0.5162 - val_acc: 0.7563\n",
      "Epoch 18/20\n",
      " - 41s - loss: 0.5131 - acc: 0.7546 - val_loss: 0.5162 - val_acc: 0.7371\n",
      "Epoch 19/20\n",
      " - 41s - loss: 0.5068 - acc: 0.7524 - val_loss: 0.5017 - val_acc: 0.7446\n",
      "Epoch 20/20\n",
      " - 41s - loss: 0.4948 - acc: 0.7533 - val_loss: 0.4873 - val_acc: 0.7502\n"
     ]
    }
   ],
   "source": [
    "network = model.fit(X_train, y_train, validation_data=(X_test, y_test), epochs=20, verbose=2)"
   ]
  },
  {
   "cell_type": "markdown",
   "metadata": {},
   "source": [
    "### Computing output and comparing with test images"
   ]
  },
  {
   "cell_type": "code",
   "execution_count": 29,
   "metadata": {},
   "outputs": [],
   "source": [
    "pred = model.predict(X_test)\n",
    "pred = pred.reshape(614400, 4)\n",
    "output_images = []\n",
    "for p in range(len(pred)):\n",
    "    output_images.append([int(op) for op in kmeans.cluster_centers_[np.argmax(pred[p])]])\n",
    "y_test_reshaped = y_test.reshape(614400, 4)\n",
    "y_test_k_color = []\n",
    "for p in range(len(y_test_reshaped)):\n",
    "    y_test_k_color.append([int(op) for op in kmeans.cluster_centers_[np.argmax(y_test_reshaped[p])]])\n",
    "output_images = np.reshape(output_images, (600, 32, 32, 3))\n",
    "y_test_k_color = np.reshape(y_test_k_color, (600, 32, 32, 3))"
   ]
  },
  {
   "cell_type": "markdown",
   "metadata": {},
   "source": [
    "# Test Image (Right) vs Predicted Output (Left) for first 10 test images"
   ]
  },
  {
   "cell_type": "code",
   "execution_count": 30,
   "metadata": {},
   "outputs": [
    {
     "data": {
      "image/png": "[encoded data removed]",
      "text/plain": [
       "<Figure size 720x2160 with 20 Axes>"
      ]
     },
     "metadata": {
      "needs_background": "light"
     },
     "output_type": "display_data"
    }
   ],
   "source": [
    "plt.figure(figsize=(10, 30))\n",
    "subplotcount = 1\n",
    "for i in range(0,10):\n",
    "    plt.subplot(10, 2, subplotcount)\n",
    "    subplotcount+=1\n",
    "    plt.imshow(y_test_k_color[i])\n",
    "    plt.subplot(10, 2, subplotcount)\n",
    "    subplotcount+=1\n",
    "    plt.imshow(output_images[i])\n",
    "    plt.axis('off')\n",
    "plt.show()"
   ]
  },
  {
   "cell_type": "markdown",
   "metadata": {},
   "source": [
    "### Graph for training error/testing error vs no. of epochs"
   ]
  },
  {
   "cell_type": "code",
   "execution_count": 49,
   "metadata": {},
   "outputs": [
    {
     "data": {
      "text/plain": [
       "<matplotlib.legend.Legend at 0x13c56fef0>"
      ]
     },
     "execution_count": 49,
     "metadata": {},
     "output_type": "execute_result"
    },
    {
     "data": {
      "image/png": "[encoded data removed]",
      "text/plain": [
       "<Figure size 432x288 with 1 Axes>"
      ]
     },
     "metadata": {
      "needs_background": "light"
     },
     "output_type": "display_data"
    }
   ],
   "source": [
    "no_of_epochs = [int(i) for i in range(1, 21)]\n",
    "plt.plot(no_of_epochs, network.history['loss'], marker = \"x\", color=\"r\", label = \"Testing Error\")\n",
    "plt.plot(no_of_epochs, network.history['val_loss'], marker = \"x\", color = \"g\", label = \"Training Error\")\n",
    "plt.legend()"
   ]
  },
  {
   "cell_type": "markdown",
   "metadata": {},
   "source": [
    "### Reporting train error, train accuracy, test error and test accuracy:"
   ]
  },
  {
   "cell_type": "markdown",
   "metadata": {},
   "source": [
    "- Epoch 1/20\n",
    " - 41s - loss: 1.2160 - acc: 0.5020 - val_loss: 1.0969 - val_acc: 0.6922\n",
    "- Epoch 2/20\n",
    " - 41s - loss: 1.0266 - acc: 0.6994 - val_loss: 0.9620 - val_acc: 0.7151\n",
    "- Epoch 3/20\n",
    " - 41s - loss: 0.9103 - acc: 0.7204 - val_loss: 0.8654 - val_acc: 0.7239\n",
    "- Epoch 4/20\n",
    " - 41s - loss: 0.8307 - acc: 0.7279 - val_loss: 0.7917 - val_acc: 0.7357\n",
    "- Epoch 5/20\n",
    " - 41s - loss: 0.7691 - acc: 0.7350 - val_loss: 0.7431 - val_acc: 0.7360\n",
    "- Epoch 6/20\n",
    " - 41s - loss: 0.7184 - acc: 0.7426 - val_loss: 0.7025 - val_acc: 0.7389\n",
    "- Epoch 7/20\n",
    " - 41s - loss: 0.6830 - acc: 0.7452 - val_loss: 0.6633 - val_acc: 0.7474\n",
    "- Epoch 8/20\n",
    " - 41s - loss: 0.6589 - acc: 0.7450 - val_loss: 0.6540 - val_acc: 0.7354\n",
    "- Epoch 9/20\n",
    " - 41s - loss: 0.6296 - acc: 0.7502 - val_loss: 0.6229 - val_acc: 0.7465\n",
    "- Epoch 10/20\n",
    " - 41s - loss: 0.6104 - acc: 0.7515 - val_loss: 0.6022 - val_acc: 0.7545\n",
    "- Epoch 11/20\n",
    " - 41s - loss: 0.5971 - acc: 0.7506 - val_loss: 0.5909 - val_acc: 0.7457\n",
    "- Epoch 12/20\n",
    " - 41s - loss: 0.5816 - acc: 0.7524 - val_loss: 0.5711 - val_acc: 0.7504\n",
    "- Epoch 13/20\n",
    " - 41s - loss: 0.5673 - acc: 0.7535 - val_loss: 0.5575 - val_acc: 0.7530\n",
    "- Epoch 14/20\n",
    " - 41s - loss: 0.5542 - acc: 0.7548 - val_loss: 0.5569 - val_acc: 0.7474\n",
    "- Epoch 15/20\n",
    " - 41s - loss: 0.5461 - acc: 0.7533 - val_loss: 0.5561 - val_acc: 0.7296\n",
    "- Epoch 16/20\n",
    " - 41s - loss: 0.5338 - acc: 0.7539 - val_loss: 0.5244 - val_acc: 0.7560\n",
    "- Epoch 17/20\n",
    " - 41s - loss: 0.5232 - acc: 0.7546 - val_loss: 0.5162 - val_acc: 0.7563\n",
    "- Epoch 18/20\n",
    " - 41s - loss: 0.5131 - acc: 0.7546 - val_loss: 0.5162 - val_acc: 0.7371\n",
    "- Epoch 19/20\n",
    " - 41s - loss: 0.5068 - acc: 0.7524 - val_loss: 0.5017 - val_acc: 0.7446\n",
    "- Epoch 20/20\n",
    " - 41s - loss: 0.4948 - acc: 0.7533 - val_loss: 0.4873 - val_acc: 0.7502"
   ]
  },
  {
   "cell_type": "code",
   "execution_count": null,
   "metadata": {},
   "outputs": [],
   "source": []
  }
 ],
 "metadata": {
  "kernelspec": {
   "display_name": "Python 3",
   "language": "python",
   "name": "python3"
  },
  "language_info": {
   "codemirror_mode": {
    "name": "ipython",
    "version": 3
   },
   "file_extension": ".py",
   "mimetype": "text/x-python",
   "name": "python",
   "nbconvert_exporter": "python",
   "pygments_lexer": "ipython3",
   "version": "3.6.6"
  }
 },
 "nbformat": 4,
 "nbformat_minor": 2
}
